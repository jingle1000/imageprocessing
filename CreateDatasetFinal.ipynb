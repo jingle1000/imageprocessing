{
 "cells": [
  {
   "cell_type": "code",
   "execution_count": 1,
   "metadata": {},
   "outputs": [],
   "source": [
    "from typing import Tuple, Dict, List, Iterator\n",
    "import os\n",
    "import numpy as np\n",
    "from PIL import Image\n",
    "from numba import njit, prange, uint64, uint8, int8, int64\n",
    "from numba.experimental import jitclass\n",
    "import matplotlib.pyplot as plt"
   ]
  },
  {
   "cell_type": "code",
   "execution_count": 2,
   "metadata": {},
   "outputs": [],
   "source": [
    "image_segment_spec = [\n",
    "    (\"topx\", int64),\n",
    "    (\"topy\", int64),\n",
    "    (\"image\", int64[:,:,:])\n",
    "]\n",
    "@jitclass(image_segment_spec)\n",
    "class ImageSegment:\n",
    "    \n",
    "    def __init__(self, topx, topy, image):\n",
    "        self.topx = topx\n",
    "        self.topy = topy\n",
    "        self.image = image\n",
    "        \n",
    "        \n",
    "class Dataset:\n",
    "    def load_image(filename: str):\n",
    "        img = Image.open(\"C:/Users/John Ingle/Videos/Tests/ferrari/39.png\")\n",
    "        img_copy = img.copy()\n",
    "        img_array = np.array(img_copy)"
   ]
  },
  {
   "cell_type": "code",
   "execution_count": null,
   "metadata": {},
   "outputs": [],
   "source": []
  }
 ],
 "metadata": {
  "kernelspec": {
   "display_name": "Python 3",
   "language": "python",
   "name": "python3"
  },
  "language_info": {
   "codemirror_mode": {
    "name": "ipython",
    "version": 3
   },
   "file_extension": ".py",
   "mimetype": "text/x-python",
   "name": "python",
   "nbconvert_exporter": "python",
   "pygments_lexer": "ipython3",
   "version": "3.7.7"
  }
 },
 "nbformat": 4,
 "nbformat_minor": 4
}
